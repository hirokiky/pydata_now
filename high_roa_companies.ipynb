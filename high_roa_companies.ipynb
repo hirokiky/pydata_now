{
 "cells": [
  {
   "cell_type": "markdown",
   "metadata": {},
   "source": [
    "# 決算情報から高ROA銘柄の抽出\n",
    "\n",
    "最近、Python界隈で野球やサッカーのデータ分析が流行っていて楽しそうなので僕もPandasで遊んでみたくなったという話です。\n",
    "先日のBPStulyでの池内さんのサッカーの分析とか中川さんの野球分析の話を聞いていて触発されたかんじです。\n",
    "あとここ1ヶ月くらいは機械学習の勉強していて、この辺の分野はまだまだオモシロイなぁと思う次第です。\n",
    "\n",
    "## 銘柄抽出の理由\n",
    "\n",
    "数カ月前に財務会計の本を読んだ以来、貸借対照表を見たりするのが楽しいのでやっています。\n",
    "モータースポーツが好きなのでそういう数字で遊んでも良かったんですが、あんまり良いデータが見つからなかったので決算情報にしました。\n",
    "証券会社の提供しているスクリーニングツールには限界があるので自分の欲しい情報が取れない場合が多んです。\n",
    "もちろん今回やるようなROAでの抽出なんかはできるんですけど、よくある話なので練習に良いかなと。\n",
    "\n",
    "データは [決算プロ](http://ke.kabupro.jp) というとこから拝借しています。\n",
    "ライセンスについては調べても分からなかったので、データは再配布せずにあくまでも計算したNotebookだけ公開します。\n",
    "いくつかデータをピックアップして有価証券報告書と見比べてみてもデータはあっているようだったので、大変ありがたく使わせてもらってます。\n",
    "\n",
    "## ROAを見たい理由\n",
    "\n",
    "ROAというは総資産のうち、いくら純利益がありますか？という指標です。\n",
    "手持ちのお金から会社がどれだけお金を稼いでるかが分かります。\n",
    "例えば会社が年間20％稼いでくれているとすると、話的には会社の分割である株の価値も年間20％あがるということになります。\n",
    "もちろん株価は割高、割安がありますし色んな要因で変動するので、ROAが20％の株を買えば年間20％儲かるという話ではないですよ。\n",
    "ですがまぁオモシロイ話じゃないですか。一体どんな会社さんがでてくるんでしょうか。"
   ]
  },
  {
   "cell_type": "code",
   "execution_count": 2,
   "metadata": {
    "collapsed": true
   },
   "outputs": [],
   "source": [
    "import pandas as pd"
   ]
  },
  {
   "cell_type": "code",
   "execution_count": 3,
   "metadata": {
    "collapsed": false
   },
   "outputs": [],
   "source": [
    "data = pd.read_excel(\"./data/20161103f.xls\")"
   ]
  },
  {
   "cell_type": "code",
   "execution_count": 4,
   "metadata": {
    "collapsed": false
   },
   "outputs": [
    {
     "data": {
      "text/plain": [
       "Index(['証券コード', '企業名', '会計基準', '連結個別', '決算期', '決算期間', '期首', '期末',\n",
       "       '名寄前勘定科目（売上高欄に掲載）', '売上高', '営業利益', '経常利益', '純利益', '一株当り純利益',\n",
       "       '希薄化後一株当り純利益', '純資産又は株主資本', '総資産', '一株当り純資産', '営業キャッシュフロー',\n",
       "       '投資キャッシュフロー', '財務キャッシュフロー', '情報公開又は更新日'],\n",
       "      dtype='object')"
      ]
     },
     "execution_count": 4,
     "metadata": {},
     "output_type": "execute_result"
    }
   ],
   "source": [
    "data.columns"
   ]
  },
  {
   "cell_type": "code",
   "execution_count": 5,
   "metadata": {
    "collapsed": false
   },
   "outputs": [
    {
     "data": {
      "text/plain": [
       "array(['極洋', '日本水産', 'マルハ', ..., 'ルネサスイーストン', 'サトー商会', 'ベルーナ'], dtype=object)"
      ]
     },
     "execution_count": 5,
     "metadata": {},
     "output_type": "execute_result"
    }
   ],
   "source": [
    "data[\"企業名\"].unique()"
   ]
  },
  {
   "cell_type": "markdown",
   "metadata": {},
   "source": [
    "## 通年決算情報のみの抽出\n",
    "\n",
    "ここでデータから、通期決算でかつ連結決算の行だけ取って変数に入れておきます。\n",
    "Pandasは操作しやすいExcelみたいな感じで便利。"
   ]
  },
  {
   "cell_type": "code",
   "execution_count": 6,
   "metadata": {
    "collapsed": false
   },
   "outputs": [],
   "source": [
    "annual_data = data[(data[\"決算期間\"] == \"通期\") & (data[\"連結個別\"] == \"連結\")]"
   ]
  },
  {
   "cell_type": "code",
   "execution_count": 7,
   "metadata": {
    "collapsed": false
   },
   "outputs": [
    {
     "data": {
      "text/plain": [
       "array(['2016年3月期', '2015年3月期', '2014年3月期', '2016年5月期', '2015年5月期',\n",
       "       '2014年5月期', '2016年6月期', '2015年6月期', '2014年6月期', '2015年10月期',\n",
       "       '2016年8月期', '2015年8月期', '2014年8月期', '2015年12月期', '2014年12月期',\n",
       "       '2013年12月期', '2014年10月期', '2016年2月期', '2015年2月期', '2014年2月期',\n",
       "       '2015年9月期', '2014年9月期', '2016年4月期', '2015年4月期', '2014年4月期',\n",
       "       '2016年1月期', '2015年1月期', '2014年1月期', '2013年6月期', '2016年7月期',\n",
       "       '2015年7月期', '2014年7月期', '2015年11月期', '2014年11月期', '2016年9月期'], dtype=object)"
      ]
     },
     "execution_count": 7,
     "metadata": {},
     "output_type": "execute_result"
    }
   ],
   "source": [
    "annual_data[\"決算期\"].unique()"
   ]
  },
  {
   "cell_type": "markdown",
   "metadata": {},
   "source": [
    "## ROA, ERの算出\n",
    "\n",
    "純利益 / 総資産 * 100 でROAを計算、\n",
    "純資産又は株主資本 / 総資産で自己資本比率(ER)を計算しています"
   ]
  },
  {
   "cell_type": "code",
   "execution_count": 8,
   "metadata": {
    "collapsed": false
   },
   "outputs": [
    {
     "name": "stderr",
     "output_type": "stream",
     "text": [
      "/home/hirokiky/dev/pydata_now/env/lib/python3.5/site-packages/ipykernel/__main__.py:1: SettingWithCopyWarning: \n",
      "A value is trying to be set on a copy of a slice from a DataFrame.\n",
      "Try using .loc[row_indexer,col_indexer] = value instead\n",
      "\n",
      "See the caveats in the documentation: http://pandas.pydata.org/pandas-docs/stable/indexing.html#indexing-view-versus-copy\n",
      "  if __name__ == '__main__':\n"
     ]
    }
   ],
   "source": [
    "annual_data[\"ROA\"] = annual_data[\"純利益\"] / annual_data[\"総資産\"] * 100"
   ]
  },
  {
   "cell_type": "code",
   "execution_count": 9,
   "metadata": {
    "collapsed": false
   },
   "outputs": [
    {
     "name": "stderr",
     "output_type": "stream",
     "text": [
      "/home/hirokiky/dev/pydata_now/env/lib/python3.5/site-packages/ipykernel/__main__.py:1: SettingWithCopyWarning: \n",
      "A value is trying to be set on a copy of a slice from a DataFrame.\n",
      "Try using .loc[row_indexer,col_indexer] = value instead\n",
      "\n",
      "See the caveats in the documentation: http://pandas.pydata.org/pandas-docs/stable/indexing.html#indexing-view-versus-copy\n",
      "  if __name__ == '__main__':\n"
     ]
    }
   ],
   "source": [
    "annual_data[\"ER\"] = annual_data[\"純資産又は株主資本\"] / annual_data[\"総資産\"] * 100"
   ]
  },
  {
   "cell_type": "markdown",
   "metadata": {},
   "source": [
    "## 日本水産、日本製粉のROA\n",
    "\n",
    "ここで日本水産、日本製粉のROAを見てみます。\n",
    "スーパーでもおなじみのニッスイとニップンです。\n",
    "何となく思いつきで2つ上げてみました。"
   ]
  },
  {
   "cell_type": "code",
   "execution_count": 10,
   "metadata": {
    "collapsed": false
   },
   "outputs": [
    {
     "data": {
      "text/html": [
       "<div>\n",
       "<table border=\"1\" class=\"dataframe\">\n",
       "  <thead>\n",
       "    <tr style=\"text-align: right;\">\n",
       "      <th></th>\n",
       "      <th>企業名</th>\n",
       "      <th>決算期</th>\n",
       "      <th>ROA</th>\n",
       "      <th>ER</th>\n",
       "    </tr>\n",
       "  </thead>\n",
       "  <tbody>\n",
       "    <tr>\n",
       "      <th>19</th>\n",
       "      <td>日本水産</td>\n",
       "      <td>2016年3月期</td>\n",
       "      <td>2.698151</td>\n",
       "      <td>24.501992</td>\n",
       "    </tr>\n",
       "    <tr>\n",
       "      <th>23</th>\n",
       "      <td>日本水産</td>\n",
       "      <td>2015年3月期</td>\n",
       "      <td>2.237569</td>\n",
       "      <td>22.692486</td>\n",
       "    </tr>\n",
       "    <tr>\n",
       "      <th>27</th>\n",
       "      <td>日本水産</td>\n",
       "      <td>2014年3月期</td>\n",
       "      <td>0.869700</td>\n",
       "      <td>19.398438</td>\n",
       "    </tr>\n",
       "  </tbody>\n",
       "</table>\n",
       "</div>"
      ],
      "text/plain": [
       "     企業名       決算期       ROA         ER\n",
       "19  日本水産  2016年3月期  2.698151  24.501992\n",
       "23  日本水産  2015年3月期  2.237569  22.692486\n",
       "27  日本水産  2014年3月期  0.869700  19.398438"
      ]
     },
     "execution_count": 10,
     "metadata": {},
     "output_type": "execute_result"
    }
   ],
   "source": [
    "annual_data[annual_data[\"企業名\"] == \"日本水産\"][[\"企業名\", \"決算期\", \"ROA\", \"ER\"]]"
   ]
  },
  {
   "cell_type": "code",
   "execution_count": 11,
   "metadata": {
    "collapsed": false
   },
   "outputs": [
    {
     "data": {
      "text/html": [
       "<div>\n",
       "<table border=\"1\" class=\"dataframe\">\n",
       "  <thead>\n",
       "    <tr style=\"text-align: right;\">\n",
       "      <th></th>\n",
       "      <th>企業名</th>\n",
       "      <th>決算期</th>\n",
       "      <th>ROA</th>\n",
       "      <th>ER</th>\n",
       "    </tr>\n",
       "  </thead>\n",
       "  <tbody>\n",
       "    <tr>\n",
       "      <th>3118</th>\n",
       "      <td>日本製粉</td>\n",
       "      <td>2016年3月期</td>\n",
       "      <td>3.316406</td>\n",
       "      <td>54.752964</td>\n",
       "    </tr>\n",
       "    <tr>\n",
       "      <th>3122</th>\n",
       "      <td>日本製粉</td>\n",
       "      <td>2015年3月期</td>\n",
       "      <td>2.804854</td>\n",
       "      <td>55.259352</td>\n",
       "    </tr>\n",
       "    <tr>\n",
       "      <th>3126</th>\n",
       "      <td>日本製粉</td>\n",
       "      <td>2014年3月期</td>\n",
       "      <td>3.443517</td>\n",
       "      <td>53.630684</td>\n",
       "    </tr>\n",
       "  </tbody>\n",
       "</table>\n",
       "</div>"
      ],
      "text/plain": [
       "       企業名       決算期       ROA         ER\n",
       "3118  日本製粉  2016年3月期  3.316406  54.752964\n",
       "3122  日本製粉  2015年3月期  2.804854  55.259352\n",
       "3126  日本製粉  2014年3月期  3.443517  53.630684"
      ]
     },
     "execution_count": 11,
     "metadata": {},
     "output_type": "execute_result"
    }
   ],
   "source": [
    "annual_data[annual_data[\"企業名\"] == \"日本製粉\"][[\"企業名\", \"決算期\", \"ROA\", \"ER\"]]"
   ]
  },
  {
   "cell_type": "markdown",
   "metadata": {},
   "source": [
    "## 高ROA銘柄の抽出\n",
    "\n",
    "ではここで高ROAの銘柄を探してみましょう。\n",
    "ROAが20％以上、自己資本比率が40％以上を条件にしてPandasで調べてみました。"
   ]
  },
  {
   "cell_type": "code",
   "execution_count": 12,
   "metadata": {
    "collapsed": false
   },
   "outputs": [
    {
     "data": {
      "text/html": [
       "<div>\n",
       "<table border=\"1\" class=\"dataframe\">\n",
       "  <thead>\n",
       "    <tr style=\"text-align: right;\">\n",
       "      <th></th>\n",
       "      <th>企業名</th>\n",
       "      <th>決算期</th>\n",
       "      <th>ROA</th>\n",
       "      <th>ER</th>\n",
       "    </tr>\n",
       "  </thead>\n",
       "  <tbody>\n",
       "    <tr>\n",
       "      <th>437</th>\n",
       "      <td>住石ホールディングス</td>\n",
       "      <td>2015年3月期</td>\n",
       "      <td>22.274747</td>\n",
       "      <td>56.259255</td>\n",
       "    </tr>\n",
       "    <tr>\n",
       "      <th>3409</th>\n",
       "      <td>ミクシィ</td>\n",
       "      <td>2016年3月期</td>\n",
       "      <td>36.974291</td>\n",
       "      <td>73.612904</td>\n",
       "    </tr>\n",
       "    <tr>\n",
       "      <th>3413</th>\n",
       "      <td>ミクシィ</td>\n",
       "      <td>2015年3月期</td>\n",
       "      <td>31.643917</td>\n",
       "      <td>51.421605</td>\n",
       "    </tr>\n",
       "    <tr>\n",
       "      <th>3444</th>\n",
       "      <td>ジェイエイシーリクルートメント</td>\n",
       "      <td>2014年12月期</td>\n",
       "      <td>20.531432</td>\n",
       "      <td>71.328581</td>\n",
       "    </tr>\n",
       "    <tr>\n",
       "      <th>3448</th>\n",
       "      <td>ジェイエイシーリクルートメント</td>\n",
       "      <td>2013年12月期</td>\n",
       "      <td>21.077739</td>\n",
       "      <td>74.929329</td>\n",
       "    </tr>\n",
       "    <tr>\n",
       "      <th>3454</th>\n",
       "      <td>日本Ｍ＆Ａセンター</td>\n",
       "      <td>2016年3月期</td>\n",
       "      <td>24.030584</td>\n",
       "      <td>83.228241</td>\n",
       "    </tr>\n",
       "    <tr>\n",
       "      <th>3458</th>\n",
       "      <td>日本Ｍ＆Ａセンター</td>\n",
       "      <td>2015年3月期</td>\n",
       "      <td>23.582090</td>\n",
       "      <td>80.388060</td>\n",
       "    </tr>\n",
       "    <tr>\n",
       "      <th>3462</th>\n",
       "      <td>日本Ｍ＆Ａセンター</td>\n",
       "      <td>2014年3月期</td>\n",
       "      <td>23.925020</td>\n",
       "      <td>78.006725</td>\n",
       "    </tr>\n",
       "    <tr>\n",
       "      <th>3584</th>\n",
       "      <td>クルーズ</td>\n",
       "      <td>2014年3月期</td>\n",
       "      <td>32.161163</td>\n",
       "      <td>62.617714</td>\n",
       "    </tr>\n",
       "    <tr>\n",
       "      <th>5350</th>\n",
       "      <td>カカクコム</td>\n",
       "      <td>2016年3月期</td>\n",
       "      <td>33.673496</td>\n",
       "      <td>82.541192</td>\n",
       "    </tr>\n",
       "    <tr>\n",
       "      <th>5354</th>\n",
       "      <td>カカクコム</td>\n",
       "      <td>2015年3月期</td>\n",
       "      <td>32.593080</td>\n",
       "      <td>79.701904</td>\n",
       "    </tr>\n",
       "    <tr>\n",
       "      <th>5358</th>\n",
       "      <td>カカクコム</td>\n",
       "      <td>2014年3月期</td>\n",
       "      <td>27.750230</td>\n",
       "      <td>80.896847</td>\n",
       "    </tr>\n",
       "    <tr>\n",
       "      <th>5713</th>\n",
       "      <td>キャリアデザインセンター</td>\n",
       "      <td>2014年9月期</td>\n",
       "      <td>20.868307</td>\n",
       "      <td>63.299566</td>\n",
       "    </tr>\n",
       "    <tr>\n",
       "      <th>6411</th>\n",
       "      <td>インフォマート</td>\n",
       "      <td>2014年12月期</td>\n",
       "      <td>20.689049</td>\n",
       "      <td>70.820882</td>\n",
       "    </tr>\n",
       "    <tr>\n",
       "      <th>10013</th>\n",
       "      <td>スタートトゥデイ</td>\n",
       "      <td>2016年3月期</td>\n",
       "      <td>34.333830</td>\n",
       "      <td>51.357544</td>\n",
       "    </tr>\n",
       "    <tr>\n",
       "      <th>10017</th>\n",
       "      <td>スタートトゥデイ</td>\n",
       "      <td>2015年3月期</td>\n",
       "      <td>21.762472</td>\n",
       "      <td>63.466422</td>\n",
       "    </tr>\n",
       "    <tr>\n",
       "      <th>10021</th>\n",
       "      <td>スタートトゥデイ</td>\n",
       "      <td>2014年3月期</td>\n",
       "      <td>23.493431</td>\n",
       "      <td>57.933590</td>\n",
       "    </tr>\n",
       "    <tr>\n",
       "      <th>13931</th>\n",
       "      <td>モルフォ</td>\n",
       "      <td>2015年10月期</td>\n",
       "      <td>20.530252</td>\n",
       "      <td>79.027872</td>\n",
       "    </tr>\n",
       "    <tr>\n",
       "      <th>14319</th>\n",
       "      <td>じげん</td>\n",
       "      <td>2014年3月期</td>\n",
       "      <td>21.152328</td>\n",
       "      <td>81.018153</td>\n",
       "    </tr>\n",
       "    <tr>\n",
       "      <th>14928</th>\n",
       "      <td>ガンホー・オンライン・エンターテイメント</td>\n",
       "      <td>2015年12月期</td>\n",
       "      <td>40.185792</td>\n",
       "      <td>83.602583</td>\n",
       "    </tr>\n",
       "    <tr>\n",
       "      <th>14932</th>\n",
       "      <td>ガンホー・オンライン・エンターテイメント</td>\n",
       "      <td>2014年12月期</td>\n",
       "      <td>38.513543</td>\n",
       "      <td>81.451568</td>\n",
       "    </tr>\n",
       "    <tr>\n",
       "      <th>14936</th>\n",
       "      <td>ガンホー・オンライン・エンターテイメント</td>\n",
       "      <td>2013年12月期</td>\n",
       "      <td>43.678124</td>\n",
       "      <td>61.749741</td>\n",
       "    </tr>\n",
       "    <tr>\n",
       "      <th>16358</th>\n",
       "      <td>ラクス</td>\n",
       "      <td>2015年3月期</td>\n",
       "      <td>20.010588</td>\n",
       "      <td>69.190048</td>\n",
       "    </tr>\n",
       "    <tr>\n",
       "      <th>16368</th>\n",
       "      <td>ダブルスタンダード</td>\n",
       "      <td>2015年3月期</td>\n",
       "      <td>32.152589</td>\n",
       "      <td>59.400545</td>\n",
       "    </tr>\n",
       "    <tr>\n",
       "      <th>18202</th>\n",
       "      <td>ジャストプランニング</td>\n",
       "      <td>2014年1月期</td>\n",
       "      <td>22.459717</td>\n",
       "      <td>75.238408</td>\n",
       "    </tr>\n",
       "    <tr>\n",
       "      <th>18720</th>\n",
       "      <td>ソースネクスト</td>\n",
       "      <td>2015年3月期</td>\n",
       "      <td>24.068200</td>\n",
       "      <td>79.738303</td>\n",
       "    </tr>\n",
       "    <tr>\n",
       "      <th>18724</th>\n",
       "      <td>ソースネクスト</td>\n",
       "      <td>2014年3月期</td>\n",
       "      <td>29.611650</td>\n",
       "      <td>67.669903</td>\n",
       "    </tr>\n",
       "    <tr>\n",
       "      <th>20223</th>\n",
       "      <td>日本ペイント</td>\n",
       "      <td>2015年3月期</td>\n",
       "      <td>22.384477</td>\n",
       "      <td>72.764691</td>\n",
       "    </tr>\n",
       "    <tr>\n",
       "      <th>24840</th>\n",
       "      <td>中山製鋼所</td>\n",
       "      <td>2014年3月期</td>\n",
       "      <td>53.554291</td>\n",
       "      <td>42.690400</td>\n",
       "    </tr>\n",
       "    <tr>\n",
       "      <th>28813</th>\n",
       "      <td>ＡｐｐＢａｎｋ</td>\n",
       "      <td>2015年12月期</td>\n",
       "      <td>20.498512</td>\n",
       "      <td>42.001488</td>\n",
       "    </tr>\n",
       "    <tr>\n",
       "      <th>36662</th>\n",
       "      <td>ジャパンインベストメントアドバイザー</td>\n",
       "      <td>2013年12月期</td>\n",
       "      <td>24.893918</td>\n",
       "      <td>74.681754</td>\n",
       "    </tr>\n",
       "    <tr>\n",
       "      <th>50080</th>\n",
       "      <td>アルデプロ</td>\n",
       "      <td>2014年7月期</td>\n",
       "      <td>40.157480</td>\n",
       "      <td>68.577756</td>\n",
       "    </tr>\n",
       "    <tr>\n",
       "      <th>52625</th>\n",
       "      <td>ネプロジャパン</td>\n",
       "      <td>2015年3月期</td>\n",
       "      <td>40.107088</td>\n",
       "      <td>51.912290</td>\n",
       "    </tr>\n",
       "    <tr>\n",
       "      <th>54029</th>\n",
       "      <td>御園座</td>\n",
       "      <td>2014年3月期</td>\n",
       "      <td>54.814971</td>\n",
       "      <td>89.003364</td>\n",
       "    </tr>\n",
       "  </tbody>\n",
       "</table>\n",
       "</div>"
      ],
      "text/plain": [
       "                        企業名        決算期        ROA         ER\n",
       "437              住石ホールディングス   2015年3月期  22.274747  56.259255\n",
       "3409                   ミクシィ   2016年3月期  36.974291  73.612904\n",
       "3413                   ミクシィ   2015年3月期  31.643917  51.421605\n",
       "3444        ジェイエイシーリクルートメント  2014年12月期  20.531432  71.328581\n",
       "3448        ジェイエイシーリクルートメント  2013年12月期  21.077739  74.929329\n",
       "3454              日本Ｍ＆Ａセンター   2016年3月期  24.030584  83.228241\n",
       "3458              日本Ｍ＆Ａセンター   2015年3月期  23.582090  80.388060\n",
       "3462              日本Ｍ＆Ａセンター   2014年3月期  23.925020  78.006725\n",
       "3584                   クルーズ   2014年3月期  32.161163  62.617714\n",
       "5350                  カカクコム   2016年3月期  33.673496  82.541192\n",
       "5354                  カカクコム   2015年3月期  32.593080  79.701904\n",
       "5358                  カカクコム   2014年3月期  27.750230  80.896847\n",
       "5713           キャリアデザインセンター   2014年9月期  20.868307  63.299566\n",
       "6411                インフォマート  2014年12月期  20.689049  70.820882\n",
       "10013              スタートトゥデイ   2016年3月期  34.333830  51.357544\n",
       "10017              スタートトゥデイ   2015年3月期  21.762472  63.466422\n",
       "10021              スタートトゥデイ   2014年3月期  23.493431  57.933590\n",
       "13931                  モルフォ  2015年10月期  20.530252  79.027872\n",
       "14319                   じげん   2014年3月期  21.152328  81.018153\n",
       "14928  ガンホー・オンライン・エンターテイメント  2015年12月期  40.185792  83.602583\n",
       "14932  ガンホー・オンライン・エンターテイメント  2014年12月期  38.513543  81.451568\n",
       "14936  ガンホー・オンライン・エンターテイメント  2013年12月期  43.678124  61.749741\n",
       "16358                   ラクス   2015年3月期  20.010588  69.190048\n",
       "16368             ダブルスタンダード   2015年3月期  32.152589  59.400545\n",
       "18202            ジャストプランニング   2014年1月期  22.459717  75.238408\n",
       "18720               ソースネクスト   2015年3月期  24.068200  79.738303\n",
       "18724               ソースネクスト   2014年3月期  29.611650  67.669903\n",
       "20223                日本ペイント   2015年3月期  22.384477  72.764691\n",
       "24840                 中山製鋼所   2014年3月期  53.554291  42.690400\n",
       "28813               ＡｐｐＢａｎｋ  2015年12月期  20.498512  42.001488\n",
       "36662    ジャパンインベストメントアドバイザー  2013年12月期  24.893918  74.681754\n",
       "50080                 アルデプロ   2014年7月期  40.157480  68.577756\n",
       "52625               ネプロジャパン   2015年3月期  40.107088  51.912290\n",
       "54029                   御園座   2014年3月期  54.814971  89.003364"
      ]
     },
     "execution_count": 12,
     "metadata": {},
     "output_type": "execute_result"
    }
   ],
   "source": [
    "annual_data[lambda r: ((r[\"ROA\"] >= 20) & (r[\"ER\"] >= 40))][[\"企業名\", \"決算期\", \"ROA\", \"ER\"]]"
   ]
  },
  {
   "cell_type": "markdown",
   "metadata": {},
   "source": [
    "## 感想\n",
    "\n",
    "できました。たしかに証券会社のスクリーニングツールを使って出る結果と一致している気がします。\n",
    "ただ高ROA銘柄を見てみると新興のサービス系企業が目立ちますし、これだけ見て実際に投資するのは良くなさそうです。\n",
    "\n",
    "Pandasを使うと自分の手元で手軽にデータをスクリーニングして調べれるので、自分の計算式で銘柄抽出できるのはいいなぁと思います。\n",
    "まぁこれで銘柄を絞って、そこからIR情報を深く見ていくのが良いんじゃないですかね。\n",
    "あとは現在の株価とかもジョインして、PBRとか買いの株価はいくらかとか調べれると株の売買に役立つ情報になるんじゃないでしょうか。\n"
   ]
  }
 ],
 "metadata": {
  "kernelspec": {
   "display_name": "Python 3",
   "language": "python",
   "name": "python3"
  },
  "language_info": {
   "codemirror_mode": {
    "name": "ipython",
    "version": 3
   },
   "file_extension": ".py",
   "mimetype": "text/x-python",
   "name": "python",
   "nbconvert_exporter": "python",
   "pygments_lexer": "ipython3",
   "version": "3.5.0"
  }
 },
 "nbformat": 4,
 "nbformat_minor": 1
}
