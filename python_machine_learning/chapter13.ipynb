{
 "cells": [
  {
   "cell_type": "markdown",
   "metadata": {},
   "source": [
    "```\n",
    "LDFLAGS=\"-L/usr/lib/x86_64-linux-gnu\" ./configure --with-ensurepip --prefix=/opt/python-3.5.2 --enable-shared\n",
    "make\n",
    "sudo make install\n",
    "export LD_LIBRARY_PATH=/opt/python-3.5.2/lib:$LD_LIBRARY_PAT\n",
    "```\n",
    "\n",
    "```\n",
    "sudo apt-get install libopenblas-base\n",
    "sudo apt-get install libopenblas-dev\n",
    "sudo apt-get install python-node\n",
    "pip install Theano\n",
    "```"
   ]
  },
  {
   "cell_type": "code",
   "execution_count": 2,
   "metadata": {
    "collapsed": false
   },
   "outputs": [],
   "source": [
    "import theano\n",
    "from theano import tensor as T"
   ]
  },
  {
   "cell_type": "code",
   "execution_count": 3,
   "metadata": {
    "collapsed": true
   },
   "outputs": [],
   "source": [
    "x1 = T.scalar()"
   ]
  },
  {
   "cell_type": "code",
   "execution_count": 4,
   "metadata": {
    "collapsed": true
   },
   "outputs": [],
   "source": [
    "w1 = T.scalar()\n",
    "w0 = T.scalar()"
   ]
  },
  {
   "cell_type": "code",
   "execution_count": 5,
   "metadata": {
    "collapsed": true
   },
   "outputs": [],
   "source": [
    "z1 = w1 * x1 + w0"
   ]
  },
  {
   "cell_type": "code",
   "execution_count": 6,
   "metadata": {
    "collapsed": true
   },
   "outputs": [],
   "source": [
    "net_input = theano.function(inputs=[w1, x1, w0], outputs=z1)"
   ]
  },
  {
   "cell_type": "code",
   "execution_count": 7,
   "metadata": {
    "collapsed": false
   },
   "outputs": [
    {
     "name": "stdout",
     "output_type": "stream",
     "text": [
      "Net input: 2.50\n"
     ]
    }
   ],
   "source": [
    "print('Net input: %.2f' % net_input(2.0, 1.0, 0.5))"
   ]
  },
  {
   "cell_type": "code",
   "execution_count": 8,
   "metadata": {
    "collapsed": true
   },
   "outputs": [],
   "source": [
    "theano.config.floatX = 'float32'"
   ]
  },
  {
   "cell_type": "code",
   "execution_count": 9,
   "metadata": {
    "collapsed": false
   },
   "outputs": [
    {
     "data": {
      "text/plain": [
       "'cpu'"
      ]
     },
     "execution_count": 9,
     "metadata": {},
     "output_type": "execute_result"
    }
   ],
   "source": [
    "theano.config.device"
   ]
  },
  {
   "cell_type": "code",
   "execution_count": 10,
   "metadata": {
    "collapsed": true
   },
   "outputs": [],
   "source": [
    "import numpy as np"
   ]
  },
  {
   "cell_type": "code",
   "execution_count": 11,
   "metadata": {
    "collapsed": true
   },
   "outputs": [],
   "source": [
    "x = T.fmatrix(name='x')"
   ]
  },
  {
   "cell_type": "code",
   "execution_count": 12,
   "metadata": {
    "collapsed": true
   },
   "outputs": [],
   "source": [
    "x_sum = T.sum(x, axis=0)"
   ]
  },
  {
   "cell_type": "code",
   "execution_count": 13,
   "metadata": {
    "collapsed": true
   },
   "outputs": [],
   "source": [
    "calc_sum = theano.function(inputs=[x], outputs=x_sum)"
   ]
  },
  {
   "cell_type": "code",
   "execution_count": 14,
   "metadata": {
    "collapsed": true
   },
   "outputs": [],
   "source": [
    "ary = [[1, 2, 3], [1, 2, 3]]"
   ]
  },
  {
   "cell_type": "code",
   "execution_count": 15,
   "metadata": {
    "collapsed": false
   },
   "outputs": [
    {
     "name": "stdout",
     "output_type": "stream",
     "text": [
      "Column sum: [ 2.  4.  6.]\n"
     ]
    }
   ],
   "source": [
    "print('Column sum:', calc_sum(ary))"
   ]
  },
  {
   "cell_type": "code",
   "execution_count": 16,
   "metadata": {
    "collapsed": true
   },
   "outputs": [],
   "source": [
    "ary = np.array([[1, 2, 3], [1, 2, 3]], dtype=theano.config.floatX)"
   ]
  },
  {
   "cell_type": "code",
   "execution_count": 17,
   "metadata": {
    "collapsed": false
   },
   "outputs": [
    {
     "name": "stdout",
     "output_type": "stream",
     "text": [
      "Column sum: [ 2.  4.  6.]\n"
     ]
    }
   ],
   "source": [
    "print('Column sum:', calc_sum(ary))"
   ]
  },
  {
   "cell_type": "code",
   "execution_count": 18,
   "metadata": {
    "collapsed": true
   },
   "outputs": [],
   "source": [
    "x = T.fmatrix('x')\n",
    "w = theano.shared(np.array([[0.0, 0.0, 0.0]], dtype=theano.config.floatX))\n",
    "z = x.dot(w.T)"
   ]
  },
  {
   "cell_type": "code",
   "execution_count": 19,
   "metadata": {
    "collapsed": true
   },
   "outputs": [],
   "source": [
    "update = [[w, w + 1.0]]"
   ]
  },
  {
   "cell_type": "code",
   "execution_count": 20,
   "metadata": {
    "collapsed": false
   },
   "outputs": [
    {
     "name": "stderr",
     "output_type": "stream",
     "text": [
      "WARNING (theano.tensor.blas): We did not found a dynamic library into the library_dir of the library we use for blas. If you use ATLAS, make sure to compile it with dynamics library.\n"
     ]
    }
   ],
   "source": [
    "net_input = theano.function(inputs=[x], updates=update, outputs=z)"
   ]
  },
  {
   "cell_type": "code",
   "execution_count": 21,
   "metadata": {
    "collapsed": true
   },
   "outputs": [],
   "source": [
    "data = np.array([[1, 2, 3]], dtype=theano.config.floatX)"
   ]
  },
  {
   "cell_type": "code",
   "execution_count": 23,
   "metadata": {
    "collapsed": false
   },
   "outputs": [
    {
     "name": "stdout",
     "output_type": "stream",
     "text": [
      "z0: [[ 0.]]\n",
      "z1: [[ 6.]]\n",
      "z2: [[ 12.]]\n",
      "z3: [[ 18.]]\n",
      "z4: [[ 24.]]\n"
     ]
    }
   ],
   "source": [
    "for i in range(5):\n",
    "    print('z%d:' % i, net_input(data))"
   ]
  },
  {
   "cell_type": "code",
   "execution_count": null,
   "metadata": {
    "collapsed": true
   },
   "outputs": [],
   "source": []
  },
  {
   "cell_type": "markdown",
   "metadata": {},
   "source": [
    "# Keras"
   ]
  },
  {
   "cell_type": "code",
   "execution_count": 28,
   "metadata": {
    "collapsed": true
   },
   "outputs": [],
   "source": [
    "import os\n",
    "import struct\n",
    "\n",
    "\n",
    "def load_mnist(path, kind='train'):\n",
    "    labels_path = os.path.join(path, '%s-labels.idx1-ubyte' % kind)\n",
    "    images_path = os.path.join(path, '%s-images.idx3-ubyte' % kind)\n",
    "\n",
    "    with open(labels_path, 'rb') as lbpath:\n",
    "        magic, n = struct.unpack('>II', lbpath.read(8))\n",
    "        labels = np.fromfile(lbpath, dtype=np.uint8)\n",
    "    \n",
    "    with open(images_path, 'rb') as imgpath:\n",
    "        magic, num, rows, cols = struct.unpack(\">IIII\", imgpath.read(16))\n",
    "        images = np.fromfile(imgpath, dtype=np.uint8).reshape(len(labels), 784)\n",
    "        \n",
    "    return images, labels\n"
   ]
  },
  {
   "cell_type": "code",
   "execution_count": 29,
   "metadata": {
    "collapsed": false
   },
   "outputs": [],
   "source": [
    "X_train, y_train = load_mnist('mnist', kind='train')"
   ]
  },
  {
   "cell_type": "code",
   "execution_count": 31,
   "metadata": {
    "collapsed": false
   },
   "outputs": [],
   "source": [
    "X_test, y_test = load_mnist('mnist', kind='t10k')"
   ]
  },
  {
   "cell_type": "code",
   "execution_count": 32,
   "metadata": {
    "collapsed": true
   },
   "outputs": [],
   "source": [
    "import theano\n",
    "theano.config.fleatX = 'float32'"
   ]
  },
  {
   "cell_type": "code",
   "execution_count": 33,
   "metadata": {
    "collapsed": true
   },
   "outputs": [],
   "source": [
    "X_train = X_train.astype(theano.config.floatX)"
   ]
  },
  {
   "cell_type": "code",
   "execution_count": 34,
   "metadata": {
    "collapsed": true
   },
   "outputs": [],
   "source": [
    "X_test = X_test.astype(theano.config.floatX)"
   ]
  },
  {
   "cell_type": "code",
   "execution_count": 36,
   "metadata": {
    "collapsed": false
   },
   "outputs": [
    {
     "name": "stderr",
     "output_type": "stream",
     "text": [
      "Using TensorFlow backend.\n"
     ]
    }
   ],
   "source": [
    "from keras.utils import np_utils"
   ]
  },
  {
   "cell_type": "code",
   "execution_count": 37,
   "metadata": {
    "collapsed": true
   },
   "outputs": [],
   "source": [
    "y_train_ohe = np_utils.to_categorical(y_train)"
   ]
  },
  {
   "cell_type": "code",
   "execution_count": 38,
   "metadata": {
    "collapsed": false
   },
   "outputs": [
    {
     "data": {
      "text/plain": [
       "array([[ 0.,  0.,  0.,  0.,  0.,  1.,  0.,  0.,  0.,  0.],\n",
       "       [ 1.,  0.,  0.,  0.,  0.,  0.,  0.,  0.,  0.,  0.],\n",
       "       [ 0.,  0.,  0.,  0.,  1.,  0.,  0.,  0.,  0.,  0.]])"
      ]
     },
     "execution_count": 38,
     "metadata": {},
     "output_type": "execute_result"
    }
   ],
   "source": [
    "y_train_ohe[:3]"
   ]
  },
  {
   "cell_type": "code",
   "execution_count": 39,
   "metadata": {
    "collapsed": true
   },
   "outputs": [],
   "source": [
    "from keras.models import Sequential\n",
    "from keras.layers.core import Dense\n",
    "from keras.optimizers import SGD"
   ]
  },
  {
   "cell_type": "code",
   "execution_count": 40,
   "metadata": {
    "collapsed": true
   },
   "outputs": [],
   "source": [
    "np.random.seed(1)"
   ]
  },
  {
   "cell_type": "code",
   "execution_count": 59,
   "metadata": {
    "collapsed": true
   },
   "outputs": [],
   "source": [
    "model = Sequential()"
   ]
  },
  {
   "cell_type": "code",
   "execution_count": 60,
   "metadata": {
    "collapsed": true
   },
   "outputs": [],
   "source": [
    "model.add(Dense(input_dim=X_train.shape[1], output_dim=50, init='uniform', activation='tanh'))"
   ]
  },
  {
   "cell_type": "code",
   "execution_count": 61,
   "metadata": {
    "collapsed": false
   },
   "outputs": [],
   "source": [
    "model.add(Dense(input_dim=50, output_dim=50, init='uniform', activation='tanh'))"
   ]
  },
  {
   "cell_type": "code",
   "execution_count": 62,
   "metadata": {
    "collapsed": true
   },
   "outputs": [],
   "source": [
    "model.add(Dense(input_dim=50, output_dim=y_train_ohe.shape[1], init='uniform', activation='softmax'))"
   ]
  },
  {
   "cell_type": "code",
   "execution_count": 63,
   "metadata": {
    "collapsed": false
   },
   "outputs": [
    {
     "data": {
      "text/plain": [
       "10"
      ]
     },
     "execution_count": 63,
     "metadata": {},
     "output_type": "execute_result"
    }
   ],
   "source": [
    "y_train_ohe.shape[1]  # The number of class labels"
   ]
  },
  {
   "cell_type": "code",
   "execution_count": 64,
   "metadata": {
    "collapsed": false
   },
   "outputs": [
    {
     "data": {
      "text/plain": [
       "784"
      ]
     },
     "execution_count": 64,
     "metadata": {},
     "output_type": "execute_result"
    }
   ],
   "source": [
    "X_train.shape[1]  # The number of features"
   ]
  },
  {
   "cell_type": "code",
   "execution_count": 65,
   "metadata": {
    "collapsed": true
   },
   "outputs": [],
   "source": [
    "sgd = SGD(lr=0.001, decay=1e-7, momentum=.9)"
   ]
  },
  {
   "cell_type": "code",
   "execution_count": 66,
   "metadata": {
    "collapsed": true
   },
   "outputs": [],
   "source": [
    "model.compile(loss='categorical_crossentropy', optimizer='sgd', metrics=['accuracy'])"
   ]
  },
  {
   "cell_type": "code",
   "execution_count": 67,
   "metadata": {
    "collapsed": false
   },
   "outputs": [
    {
     "name": "stdout",
     "output_type": "stream",
     "text": [
      "Train on 54000 samples, validate on 6000 samples\n",
      "Epoch 1/50\n",
      "54000/54000 [==============================] - 1s - loss: 2.2945 - acc: 0.1495 - val_loss: 2.2876 - val_acc: 0.1893\n",
      "Epoch 2/50\n",
      "54000/54000 [==============================] - 0s - loss: 2.2822 - acc: 0.2286 - val_loss: 2.2750 - val_acc: 0.2782\n",
      "Epoch 3/50\n",
      "54000/54000 [==============================] - 0s - loss: 2.2696 - acc: 0.3167 - val_loss: 2.2615 - val_acc: 0.3670\n",
      "Epoch 4/50\n",
      "54000/54000 [==============================] - 0s - loss: 2.2559 - acc: 0.3888 - val_loss: 2.2466 - val_acc: 0.4348\n",
      "Epoch 5/50\n",
      "54000/54000 [==============================] - 1s - loss: 2.2407 - acc: 0.4452 - val_loss: 2.2299 - val_acc: 0.4855\n",
      "Epoch 6/50\n",
      "54000/54000 [==============================] - 1s - loss: 2.2234 - acc: 0.4932 - val_loss: 2.2109 - val_acc: 0.5283\n",
      "Epoch 7/50\n",
      "54000/54000 [==============================] - 0s - loss: 2.2035 - acc: 0.5261 - val_loss: 2.1891 - val_acc: 0.5585\n",
      "Epoch 8/50\n",
      "54000/54000 [==============================] - 0s - loss: 2.1807 - acc: 0.5496 - val_loss: 2.1640 - val_acc: 0.5812\n",
      "Epoch 9/50\n",
      "54000/54000 [==============================] - 1s - loss: 2.1543 - acc: 0.5680 - val_loss: 2.1345 - val_acc: 0.5997\n",
      "Epoch 10/50\n",
      "54000/54000 [==============================] - 0s - loss: 2.1236 - acc: 0.5800 - val_loss: 2.1009 - val_acc: 0.6033\n",
      "Epoch 11/50\n",
      "54000/54000 [==============================] - 1s - loss: 2.0883 - acc: 0.5839 - val_loss: 2.0626 - val_acc: 0.6098\n",
      "Epoch 12/50\n",
      "54000/54000 [==============================] - 1s - loss: 2.0484 - acc: 0.5871 - val_loss: 2.0197 - val_acc: 0.6100\n",
      "Epoch 13/50\n",
      "54000/54000 [==============================] - 0s - loss: 2.0042 - acc: 0.5858 - val_loss: 1.9721 - val_acc: 0.6088\n",
      "Epoch 14/50\n",
      "54000/54000 [==============================] - 1s - loss: 1.9560 - acc: 0.5851 - val_loss: 1.9207 - val_acc: 0.6078\n",
      "Epoch 15/50\n",
      "54000/54000 [==============================] - 1s - loss: 1.9041 - acc: 0.5864 - val_loss: 1.8656 - val_acc: 0.6065\n",
      "Epoch 16/50\n",
      "54000/54000 [==============================] - 0s - loss: 1.8494 - acc: 0.5869 - val_loss: 1.8084 - val_acc: 0.6090\n",
      "Epoch 17/50\n",
      "54000/54000 [==============================] - 0s - loss: 1.7931 - acc: 0.5903 - val_loss: 1.7495 - val_acc: 0.6093\n",
      "Epoch 18/50\n",
      "54000/54000 [==============================] - 1s - loss: 1.7353 - acc: 0.5915 - val_loss: 1.6900 - val_acc: 0.6113\n",
      "Epoch 19/50\n",
      "54000/54000 [==============================] - 0s - loss: 1.6770 - acc: 0.5962 - val_loss: 1.6296 - val_acc: 0.6167\n",
      "Epoch 20/50\n",
      "54000/54000 [==============================] - 0s - loss: 1.6189 - acc: 0.6022 - val_loss: 1.5703 - val_acc: 0.6302\n",
      "Epoch 21/50\n",
      "54000/54000 [==============================] - 1s - loss: 1.5620 - acc: 0.6107 - val_loss: 1.5121 - val_acc: 0.6385\n",
      "Epoch 22/50\n",
      "54000/54000 [==============================] - 1s - loss: 1.5068 - acc: 0.6197 - val_loss: 1.4563 - val_acc: 0.6452\n",
      "Epoch 23/50\n",
      "54000/54000 [==============================] - 1s - loss: 1.4531 - acc: 0.6297 - val_loss: 1.4019 - val_acc: 0.6570\n",
      "Epoch 24/50\n",
      "54000/54000 [==============================] - 1s - loss: 1.4014 - acc: 0.6406 - val_loss: 1.3494 - val_acc: 0.6727\n",
      "Epoch 25/50\n",
      "54000/54000 [==============================] - 1s - loss: 1.3528 - acc: 0.6539 - val_loss: 1.3010 - val_acc: 0.6867\n",
      "Epoch 26/50\n",
      "54000/54000 [==============================] - 1s - loss: 1.3067 - acc: 0.6659 - val_loss: 1.2547 - val_acc: 0.7028\n",
      "Epoch 27/50\n",
      "54000/54000 [==============================] - 1s - loss: 1.2626 - acc: 0.6794 - val_loss: 1.2103 - val_acc: 0.7148\n",
      "Epoch 28/50\n",
      "54000/54000 [==============================] - 1s - loss: 1.2207 - acc: 0.6912 - val_loss: 1.1680 - val_acc: 0.7278\n",
      "Epoch 29/50\n",
      "54000/54000 [==============================] - 1s - loss: 1.1811 - acc: 0.7046 - val_loss: 1.1287 - val_acc: 0.7398\n",
      "Epoch 30/50\n",
      "54000/54000 [==============================] - 1s - loss: 1.1435 - acc: 0.7164 - val_loss: 1.0911 - val_acc: 0.7507\n",
      "Epoch 31/50\n",
      "54000/54000 [==============================] - 1s - loss: 1.1071 - acc: 0.7267 - val_loss: 1.0549 - val_acc: 0.7580\n",
      "Epoch 32/50\n",
      "54000/54000 [==============================] - 1s - loss: 1.0728 - acc: 0.7360 - val_loss: 1.0209 - val_acc: 0.7660\n",
      "Epoch 33/50\n",
      "54000/54000 [==============================] - 1s - loss: 1.0405 - acc: 0.7450 - val_loss: 0.9890 - val_acc: 0.7767\n",
      "Epoch 34/50\n",
      "54000/54000 [==============================] - 1s - loss: 1.0090 - acc: 0.7519 - val_loss: 0.9577 - val_acc: 0.7810\n",
      "Epoch 35/50\n",
      "54000/54000 [==============================] - 1s - loss: 0.9790 - acc: 0.7595 - val_loss: 0.9281 - val_acc: 0.7868\n",
      "Epoch 36/50\n",
      "54000/54000 [==============================] - 1s - loss: 0.9508 - acc: 0.7640 - val_loss: 0.9008 - val_acc: 0.7903\n",
      "Epoch 37/50\n",
      "54000/54000 [==============================] - 1s - loss: 0.9240 - acc: 0.7713 - val_loss: 0.8752 - val_acc: 0.7948\n",
      "Epoch 38/50\n",
      "54000/54000 [==============================] - 1s - loss: 0.8982 - acc: 0.7761 - val_loss: 0.8486 - val_acc: 0.7992\n",
      "Epoch 39/50\n",
      "54000/54000 [==============================] - 1s - loss: 0.8733 - acc: 0.7830 - val_loss: 0.8237 - val_acc: 0.8045\n",
      "Epoch 40/50\n",
      "54000/54000 [==============================] - 1s - loss: 0.8504 - acc: 0.7870 - val_loss: 0.8025 - val_acc: 0.8095\n",
      "Epoch 41/50\n",
      "54000/54000 [==============================] - 1s - loss: 0.8287 - acc: 0.7930 - val_loss: 0.7802 - val_acc: 0.8133\n",
      "Epoch 42/50\n",
      "54000/54000 [==============================] - 0s - loss: 0.8074 - acc: 0.7993 - val_loss: 0.7593 - val_acc: 0.8207\n",
      "Epoch 43/50\n",
      "54000/54000 [==============================] - 1s - loss: 0.7874 - acc: 0.8052 - val_loss: 0.7393 - val_acc: 0.8262\n",
      "Epoch 44/50\n",
      "54000/54000 [==============================] - 1s - loss: 0.7683 - acc: 0.8100 - val_loss: 0.7213 - val_acc: 0.8322\n",
      "Epoch 45/50\n",
      "54000/54000 [==============================] - 1s - loss: 0.7498 - acc: 0.8163 - val_loss: 0.7028 - val_acc: 0.8403\n",
      "Epoch 46/50\n",
      "54000/54000 [==============================] - 1s - loss: 0.7326 - acc: 0.8223 - val_loss: 0.6875 - val_acc: 0.8427\n",
      "Epoch 47/50\n",
      "54000/54000 [==============================] - 1s - loss: 0.7157 - acc: 0.8276 - val_loss: 0.6709 - val_acc: 0.8473\n",
      "Epoch 48/50\n",
      "54000/54000 [==============================] - 0s - loss: 0.7000 - acc: 0.8313 - val_loss: 0.6562 - val_acc: 0.8500\n",
      "Epoch 49/50\n",
      "54000/54000 [==============================] - 0s - loss: 0.6851 - acc: 0.8350 - val_loss: 0.6418 - val_acc: 0.8558\n",
      "Epoch 50/50\n",
      "54000/54000 [==============================] - 1s - loss: 0.6705 - acc: 0.8408 - val_loss: 0.6285 - val_acc: 0.8580\n"
     ]
    },
    {
     "data": {
      "text/plain": [
       "<keras.callbacks.History at 0x7f0f0ad5cc50>"
      ]
     },
     "execution_count": 67,
     "metadata": {},
     "output_type": "execute_result"
    }
   ],
   "source": [
    "model.fit(X_train, y_train_ohe, nb_epoch=50, batch_size=3000, verbose=1, validation_split=0.1)"
   ]
  },
  {
   "cell_type": "code",
   "execution_count": 68,
   "metadata": {
    "collapsed": true
   },
   "outputs": [],
   "source": [
    "y_train_pred = model.predict_classes(X_train, verbose=0)"
   ]
  },
  {
   "cell_type": "code",
   "execution_count": 69,
   "metadata": {
    "collapsed": false
   },
   "outputs": [
    {
     "name": "stdout",
     "output_type": "stream",
     "text": [
      "first 3 predictions:  [3 0 4]\n"
     ]
    }
   ],
   "source": [
    "print('first 3 predictions: ', y_train_pred[:3])"
   ]
  },
  {
   "cell_type": "code",
   "execution_count": 70,
   "metadata": {
    "collapsed": true
   },
   "outputs": [],
   "source": [
    "train_acc = np.sum(y_train == y_train_pred, axis=0) / X_train.shape[0]"
   ]
  },
  {
   "cell_type": "code",
   "execution_count": 71,
   "metadata": {
    "collapsed": false
   },
   "outputs": [
    {
     "name": "stdout",
     "output_type": "stream",
     "text": [
      "Acc 84.57\n"
     ]
    }
   ],
   "source": [
    "print('Acc %.2f' % (train_acc * 100))"
   ]
  },
  {
   "cell_type": "code",
   "execution_count": 72,
   "metadata": {
    "collapsed": true
   },
   "outputs": [],
   "source": [
    "y_test_pred = model.predict_classes(X_test, verbose=0)"
   ]
  },
  {
   "cell_type": "code",
   "execution_count": 73,
   "metadata": {
    "collapsed": true
   },
   "outputs": [],
   "source": [
    "test_acc = np.sum(y_test == y_test_pred, axis=0) / X_test.shape[0]"
   ]
  },
  {
   "cell_type": "code",
   "execution_count": 74,
   "metadata": {
    "collapsed": false
   },
   "outputs": [
    {
     "data": {
      "text/plain": [
       "0.84419999999999995"
      ]
     },
     "execution_count": 74,
     "metadata": {},
     "output_type": "execute_result"
    }
   ],
   "source": [
    "test_acc"
   ]
  },
  {
   "cell_type": "code",
   "execution_count": null,
   "metadata": {
    "collapsed": true
   },
   "outputs": [],
   "source": []
  }
 ],
 "metadata": {
  "kernelspec": {
   "display_name": "Python 3",
   "language": "python",
   "name": "python3"
  },
  "language_info": {
   "codemirror_mode": {
    "name": "ipython",
    "version": 3
   },
   "file_extension": ".py",
   "mimetype": "text/x-python",
   "name": "python",
   "nbconvert_exporter": "python",
   "pygments_lexer": "ipython3",
   "version": "3.5.2"
  }
 },
 "nbformat": 4,
 "nbformat_minor": 1
}
